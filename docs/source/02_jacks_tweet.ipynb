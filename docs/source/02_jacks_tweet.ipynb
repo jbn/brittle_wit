{
 "cells": [
  {
   "cell_type": "markdown",
   "metadata": {},
   "source": [
    "# Jacks First Tweet Example\n",
    "\n",
    "This example fetches [jack](http://twitter.com/jack)'s first tweet. It's meant to demonstrate a very simple task."
   ]
  },
  {
   "cell_type": "markdown",
   "metadata": {},
   "source": [
    "## Setup"
   ]
  },
  {
   "cell_type": "code",
   "execution_count": 1,
   "metadata": {
    "collapsed": true
   },
   "outputs": [],
   "source": [
    "import brittle_wit as bw"
   ]
  },
  {
   "cell_type": "markdown",
   "metadata": {},
   "source": [
    "There are lots of ways to create credentials. Using environmental variables tends to be common practice, especially for a single-user application. The following calls read from,\n",
    "\n",
    "- `TWITTER_APP_KEY`\n",
    "- `TWITTER_APP_SECRET`\n",
    "- `TWITTER_USER_ID`\n",
    "- `TWITTER_USER_TOKEN`\n",
    "- `TWITTER_USER_SECRET`"
   ]
  },
  {
   "cell_type": "code",
   "execution_count": 2,
   "metadata": {
    "collapsed": true
   },
   "outputs": [],
   "source": [
    "APP_CRED = bw.AppCredentials.load_from_env()\n",
    "CLIENT_CRED = bw.ClientCredentials.load_from_env()"
   ]
  },
  {
   "cell_type": "markdown",
   "metadata": {},
   "source": [
    "## Create your Request"
   ]
  },
  {
   "cell_type": "markdown",
   "metadata": {},
   "source": [
    "There are four API sub packages: `ads_api`, `rest_api`, `streaming_api`, and `webhooks_api`. With these subpackages, there are modules encapsulating related API calls. This makes tab-completion easier to use. For this demo, we need the rest_api."
   ]
  },
  {
   "cell_type": "code",
   "execution_count": 3,
   "metadata": {
    "collapsed": true
   },
   "outputs": [],
   "source": [
    "from brittle_wit import rest_api"
   ]
  },
  {
   "cell_type": "markdown",
   "metadata": {},
   "source": [
    "The functions in each of these modules are factories for creating `TwitterRequest` objects. Each one has an extensive docstring, so you don't have to keep opening the Twitter API docs."
   ]
  },
  {
   "cell_type": "code",
   "execution_count": 4,
   "metadata": {},
   "outputs": [
    {
     "name": "stdout",
     "output_type": "stream",
     "text": [
      "Help on function lookup in module brittle_wit.rest_api.statuses:\n",
      "\n",
      "lookup(id, *, include_entities=ELIDE, trim_user=ELIDE, map=ELIDE, include_ext_alt_text=ELIDE)\n",
      "    Returns fully-hydrated\n",
      "    \n",
      "    :param id: A comma separated list of Tweet IDs, up to 100 are allowed in a\n",
      "        single request.\n",
      "    \n",
      "    :param include_entities: The entities node that may appear within embedded\n",
      "        statuses will not be included when set to false.\n",
      "    \n",
      "    :param trim_user: When set to either true, t or 1, each Tweet returned in a\n",
      "        timeline will include a user object including only the status authors\n",
      "        numerical ID. Omit this parameter to receive the complete user object.\n",
      "    \n",
      "    :param map: When using the map parameter, Tweets that do not exist or\n",
      "        cannot be viewed by the current user will still have their key\n",
      "        represented but with an explicitly null value paired with it\n",
      "    \n",
      "    :param include_ext_alt_text: If alt text has been added to any attached\n",
      "        media entities, this parameter will return an ext_alt_text value in the\n",
      "        top-level key for the media entity. If no value has been set, this will\n",
      "        be returned as null\n",
      "\n"
     ]
    }
   ],
   "source": [
    "help(rest_api.statuses.lookup) # rest_api.statuses.lookup?? in Ipython"
   ]
  },
  {
   "cell_type": "markdown",
   "metadata": {},
   "source": [
    "If you're working in IPython/Jupyter, you can render the resulting `TwitterRequest` object as an html table, which is easier on the eyes."
   ]
  },
  {
   "cell_type": "code",
   "execution_count": 5,
   "metadata": {
    "collapsed": true
   },
   "outputs": [],
   "source": [
    "bw.monkey_patch_ipython_disp()  # Generally called after your imports."
   ]
  },
  {
   "cell_type": "markdown",
   "metadata": {},
   "source": [
    "Here is our request object."
   ]
  },
  {
   "cell_type": "code",
   "execution_count": 6,
   "metadata": {},
   "outputs": [
    {
     "data": {
      "text/html": [
       "<table>\n",
       "<tr><th>Name</th><th>Value</th>\n",
       "<tr><td>method</td><td>GET</td>\n",
       "<tr><td>url</td><td>https://api.twitter.com/1.1/statuses/lookup.json</td>\n",
       "<tr><td>family</td><td>rest:statuses</td>\n",
       "<tr><td>service</td><td>get-statuses-lookup</td>\n",
       "<tr><td>parse_as</td><td>json</td>\n",
       "<tr><td>Params</td><td><table>\n",
       "<tr><th>Key</th><th>Value</th>\n",
       "<tr><td>id</td><td>20</td>\n",
       "</table></td>\n",
       "</table>"
      ],
      "text/plain": [
       "<brittle_wit_core.common.TwitterRequest at 0x107b47fc0>"
      ]
     },
     "execution_count": 6,
     "metadata": {},
     "output_type": "execute_result"
    }
   ],
   "source": [
    "req = rest_api.statuses.lookup(id=20)\n",
    "req"
   ]
  },
  {
   "cell_type": "markdown",
   "metadata": {},
   "source": [
    "When your creating your request patterns, it's sometimes easier to use non-async code. Assuming you've installed `requests` (`pip install requests`), you can use the `debug_blocking_request` function."
   ]
  },
  {
   "cell_type": "code",
   "execution_count": 7,
   "metadata": {},
   "outputs": [],
   "source": [
    "from brittle_wit.executors import debug_blocking_request"
   ]
  },
  {
   "cell_type": "markdown",
   "metadata": {},
   "source": [
    "Here we decode the JSON response through `requests`, without any error handling. Again, it's useful for debugging. (**Note, there is no rate-limit enforcement with this function!**)"
   ]
  },
  {
   "cell_type": "code",
   "execution_count": 8,
   "metadata": {},
   "outputs": [
    {
     "data": {
      "text/plain": [
       "[{'contributors': None,\n",
       "  'coordinates': None,\n",
       "  'created_at': 'Tue Mar 21 20:50:14 +0000 2006',\n",
       "  'entities': {'hashtags': [], 'symbols': [], 'urls': [], 'user_mentions': []},\n",
       "  'favorite_count': 78391,\n",
       "  'favorited': False,\n",
       "  'geo': None,\n",
       "  'id': 20,\n",
       "  'id_str': '20',\n",
       "  'in_reply_to_screen_name': None,\n",
       "  'in_reply_to_status_id': None,\n",
       "  'in_reply_to_status_id_str': None,\n",
       "  'in_reply_to_user_id': None,\n",
       "  'in_reply_to_user_id_str': None,\n",
       "  'is_quote_status': False,\n",
       "  'lang': 'en',\n",
       "  'place': None,\n",
       "  'retweet_count': 105314,\n",
       "  'retweeted': False,\n",
       "  'source': '<a href=\"http://twitter.com\" rel=\"nofollow\">Twitter Web Client</a>',\n",
       "  'text': 'just setting up my twttr',\n",
       "  'truncated': False,\n",
       "  'user': {'contributors_enabled': False,\n",
       "   'created_at': 'Tue Mar 21 20:50:14 +0000 2006',\n",
       "   'default_profile': False,\n",
       "   'default_profile_image': False,\n",
       "   'description': '',\n",
       "   'entities': {'description': {'urls': []}},\n",
       "   'favourites_count': 18833,\n",
       "   'follow_request_sent': False,\n",
       "   'followers_count': 4082260,\n",
       "   'following': False,\n",
       "   'friends_count': 3054,\n",
       "   'geo_enabled': True,\n",
       "   'has_extended_profile': True,\n",
       "   'id': 12,\n",
       "   'id_str': '12',\n",
       "   'is_translation_enabled': False,\n",
       "   'is_translator': False,\n",
       "   'lang': 'en',\n",
       "   'listed_count': 27013,\n",
       "   'location': 'California, USA',\n",
       "   'name': 'jack',\n",
       "   'notifications': False,\n",
       "   'profile_background_color': 'EBEBEB',\n",
       "   'profile_background_image_url': 'http://abs.twimg.com/images/themes/theme7/bg.gif',\n",
       "   'profile_background_image_url_https': 'https://abs.twimg.com/images/themes/theme7/bg.gif',\n",
       "   'profile_background_tile': False,\n",
       "   'profile_banner_url': 'https://pbs.twimg.com/profile_banners/12/1483046077',\n",
       "   'profile_image_url': 'http://pbs.twimg.com/profile_images/839863609345794048/mkpdB9Tf_normal.jpg',\n",
       "   'profile_image_url_https': 'https://pbs.twimg.com/profile_images/839863609345794048/mkpdB9Tf_normal.jpg',\n",
       "   'profile_link_color': '990000',\n",
       "   'profile_sidebar_border_color': 'DFDFDF',\n",
       "   'profile_sidebar_fill_color': 'F3F3F3',\n",
       "   'profile_text_color': '333333',\n",
       "   'profile_use_background_image': True,\n",
       "   'protected': False,\n",
       "   'screen_name': 'jack',\n",
       "   'statuses_count': 22531,\n",
       "   'time_zone': 'Pacific Time (US & Canada)',\n",
       "   'translator_type': 'regular',\n",
       "   'url': None,\n",
       "   'utc_offset': -25200,\n",
       "   'verified': True}}]"
      ]
     },
     "execution_count": 8,
     "metadata": {},
     "output_type": "execute_result"
    }
   ],
   "source": [
    "resp = debug_blocking_request(APP_CRED, CLIENT_CRED, req)\n",
    "jacks_first_tweet = resp.json()\n",
    "jacks_first_tweet"
   ]
  }
 ],
 "metadata": {
  "kernelspec": {
   "display_name": "Python 3",
   "language": "python",
   "name": "python3"
  },
  "language_info": {
   "codemirror_mode": {
    "name": "ipython",
    "version": 3
   },
   "file_extension": ".py",
   "mimetype": "text/x-python",
   "name": "python",
   "nbconvert_exporter": "python",
   "pygments_lexer": "ipython3",
   "version": "3.5.3"
  }
 },
 "nbformat": 4,
 "nbformat_minor": 2
}
