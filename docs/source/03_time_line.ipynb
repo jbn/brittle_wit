{
 "cells": [
  {
   "cell_type": "markdown",
   "metadata": {},
   "source": [
    "## Raw, Async Requests\n",
    "\n",
    "For this walk through, we'll use the low-level bits of `BrittleWit` to get the last three things Jack tweeted."
   ]
  },
  {
   "cell_type": "code",
   "execution_count": 1,
   "metadata": {
    "collapsed": true
   },
   "outputs": [],
   "source": [
    "import brittle_wit as bw\n",
    "from brittle_wit import rest_api\n",
    "\n",
    "\n",
    "bw.monkey_patch_ipython_disp()\n",
    "\n",
    "\n",
    "APP_CRED = bw.AppCredentials.load_from_env()\n",
    "CLIENT_CRED = bw.ClientCredentials.load_from_env()"
   ]
  },
  {
   "cell_type": "markdown",
   "metadata": {},
   "source": [
    "This request is a `TwitterRequest`, like in the last section."
   ]
  },
  {
   "cell_type": "code",
   "execution_count": 2,
   "metadata": {},
   "outputs": [
    {
     "data": {
      "text/html": [
       "<table>\n",
       "<tr><th>Name</th><th>Value</th>\n",
       "<tr><td>method</td><td>GET</td>\n",
       "<tr><td>url</td><td>https://api.twitter.com/1.1/statuses/user_timeline.json</td>\n",
       "<tr><td>family</td><td>rest:statuses</td>\n",
       "<tr><td>service</td><td>get-statuses-user-timeline</td>\n",
       "<tr><td>parse_as</td><td>json</td>\n",
       "<tr><td>Params</td><td><table>\n",
       "<tr><th>Key</th><th>Value</th>\n",
       "<tr><td>count</td><td>3</td>\n",
       "<tr><td>screen_name</td><td>Jack</td>\n",
       "</table></td>\n",
       "</table>"
      ],
      "text/plain": [
       "<brittle_wit_core.common.TwitterRequest at 0x107b58f68>"
      ]
     },
     "execution_count": 2,
     "metadata": {},
     "output_type": "execute_result"
    }
   ],
   "source": [
    "twitter_req = rest_api.statuses.user_timeline(screen_name='Jack', count=3)\n",
    "twitter_req"
   ]
  },
  {
   "cell_type": "markdown",
   "metadata": {},
   "source": [
    "We'll need a few things from other packages and a few from `brittle_wit` that you're unlikely to use frequently."
   ]
  },
  {
   "cell_type": "code",
   "execution_count": 3,
   "metadata": {
    "collapsed": true
   },
   "outputs": [],
   "source": [
    "import asyncio\n",
    "import aiohttp\n",
    "from brittle_wit.rate_limit import RateLimit\n",
    "from brittle_wit.executors import (twitter_req_to_http_req,\n",
    "                                   execute_req)"
   ]
  },
  {
   "cell_type": "markdown",
   "metadata": {},
   "source": [
    "Since we haven't made prior requests in this script, we don't know how many api requests remain. (I could have used them all up, then restarted the notebook!) Therefore, we'll initialize it from ignorance, which gives us one request."
   ]
  },
  {
   "cell_type": "code",
   "execution_count": 4,
   "metadata": {},
   "outputs": [
    {
     "data": {
      "text/plain": [
       "RateLimit(limit=1, remaining=1, reset_time=14:50:19)"
      ]
     },
     "execution_count": 4,
     "metadata": {},
     "output_type": "execute_result"
    }
   ],
   "source": [
    "rate_limit = RateLimit.from_ignorance()\n",
    "rate_limit"
   ]
  },
  {
   "cell_type": "markdown",
   "metadata": {},
   "source": [
    "Now, let's create a coroutine that makes the request. "
   ]
  },
  {
   "cell_type": "markdown",
   "metadata": {},
   "source": [
    "https://aiohttp.readthedocs.io/en/stable/client_reference.html"
   ]
  },
  {
   "cell_type": "code",
   "execution_count": 5,
   "metadata": {
    "collapsed": true
   },
   "outputs": [],
   "source": [
    "async def jacks_last_three_tweets(client, rate_limit):\n",
    "    http_req = twitter_req_to_http_req(client, \n",
    "                                       APP_CRED, \n",
    "                                       CLIENT_CRED, \n",
    "                                       twitter_req)\n",
    "\n",
    "    return await execute_req(CLIENT_CRED, \n",
    "                             twitter_req, \n",
    "                             http_req, \n",
    "                             rate_limit)\n",
    "    \n",
    "async def simple_executor(loop, rate_limit):\n",
    "    opts = dict(loop=loop, \n",
    "                cookie_jar=aiohttp.helpers.DummyCookieJar(),\n",
    "                conn_timeout=60,\n",
    "                read_timeout=60)\n",
    "    async with aiohttp.ClientSession(**opts) as client:\n",
    "        return await jacks_last_three_tweets(client, rate_limit)"
   ]
  },
  {
   "cell_type": "code",
   "execution_count": 6,
   "metadata": {},
   "outputs": [
    {
     "data": {
      "text/plain": [
       "['RT @bohan: #DefendDACA #withDREAMers https://t.co/OSmLBdW5QA',\n",
       " 'RT @NewsHour: Trump’s decision to end DACA, explained (via @DanielBush) \\nhttps://t.co/lmwzu4hKlY',\n",
       " 'Completely unnecessary and cruel. Ending #DACA is a crushing blow to those who want to contribute to our future. https://t.co/Cpu0J01ioK']"
      ]
     },
     "execution_count": 6,
     "metadata": {},
     "output_type": "execute_result"
    }
   ],
   "source": [
    "loop = asyncio.get_event_loop()\n",
    "coro = simple_executor(loop, rate_limit)\n",
    "resp = loop.run_until_complete(coro)\n",
    "texts = [status['text'] for status in resp.body]\n",
    "texts"
   ]
  }
 ],
 "metadata": {
  "kernelspec": {
   "display_name": "Python 3",
   "language": "python",
   "name": "python3"
  },
  "language_info": {
   "codemirror_mode": {
    "name": "ipython",
    "version": 3
   },
   "file_extension": ".py",
   "mimetype": "text/x-python",
   "name": "python",
   "nbconvert_exporter": "python",
   "pygments_lexer": "ipython3",
   "version": "3.5.3"
  }
 },
 "nbformat": 4,
 "nbformat_minor": 2
}
