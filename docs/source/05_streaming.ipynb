{
 "cells": [
  {
   "cell_type": "code",
   "execution_count": 1,
   "metadata": {
    "collapsed": true
   },
   "outputs": [],
   "source": [
    "import sys\n",
    "import logging\n",
    "import brittle_wit as bw\n",
    "import aiohttp\n",
    "import asyncio\n",
    "import gzip\n",
    "from brittle_wit import streaming_api\n",
    "from brittle_wit.executors import LOGGER\n",
    "from brittle_wit.streaming import basic_streamer"
   ]
  },
  {
   "cell_type": "code",
   "execution_count": 2,
   "metadata": {
    "collapsed": true
   },
   "outputs": [],
   "source": [
    "LOGGER.setLevel(logging.DEBUG)\n",
    "\n",
    "ch = logging.StreamHandler(sys.stdout)\n",
    "ch.setLevel(logging.DEBUG)\n",
    "formatter = logging.Formatter('%(asctime)s - %(name)s - %(levelname)s - %(message)s')\n",
    "ch.setFormatter(formatter)\n",
    "LOGGER.addHandler(ch)"
   ]
  },
  {
   "cell_type": "code",
   "execution_count": 3,
   "metadata": {},
   "outputs": [
    {
     "name": "stdout",
     "output_type": "stream",
     "text": [
      "Help on function sample in module brittle_wit.streaming_api.statuses:\n",
      "\n",
      "sample(*, delimited=ELIDE, stall_warnings=ELIDE)\n",
      "    Returns a small random sample of all public statuses. The Tweets returned\n",
      "    by the default access level are the same, so if two different clients\n",
      "    connect to this endpoint, they will see the same Tweets.\n",
      "    \n",
      "    :param delimited: Specifies whether messages should be length-delimited.\n",
      "        See delimited or more information.\n",
      "    \n",
      "    :param stall_warnings: Specifies whether stall warnings should be\n",
      "        delivered. See stall_warnings for more information.\n",
      "\n"
     ]
    }
   ],
   "source": [
    "help(streaming_api.statuses.sample)"
   ]
  },
  {
   "cell_type": "code",
   "execution_count": 4,
   "metadata": {
    "collapsed": true
   },
   "outputs": [],
   "source": [
    "APP_CRED = bw.AppCredentials.load_from_env()\n",
    "CLIENT_CRED = bw.ClientCredentials.load_from_env()"
   ]
  },
  {
   "cell_type": "code",
   "execution_count": 5,
   "metadata": {},
   "outputs": [],
   "source": [
    "import time\n",
    "output_path = \"/Users/generativist/Downloads/Trump/{}.jsonl.gz\".format(time.time())\n",
    "fp = gzip.open(output_path, \"wb\")"
   ]
  },
  {
   "cell_type": "code",
   "execution_count": 6,
   "metadata": {},
   "outputs": [],
   "source": [
    "n_total, n_trump = 0, 0\n",
    "\n",
    "def quantify_trump_infection(msg):\n",
    "    global n_total, n_trump, fp\n",
    "    if b'trump' in msg.lower():\n",
    "        n_trump += 1\n",
    "            \n",
    "    n_total += 1\n",
    "    if n_total % 10000 == 0 and n_total > 0:\n",
    "        print(n_total, n_trump, n_trump/n_total)\n",
    "    \n",
    "    fp.write(msg + b\"\\n\")"
   ]
  },
  {
   "cell_type": "code",
   "execution_count": 7,
   "metadata": {},
   "outputs": [
    {
     "name": "stdout",
     "output_type": "stream",
     "text": [
      "10000 172 0.0172\n",
      "20000 381 0.01905\n",
      "30000 565 0.018833333333333334\n",
      "40000 732 0.0183\n",
      "50000 890 0.0178\n",
      "60000 1052 0.017533333333333335\n",
      "70000 1197 0.0171\n",
      "80000 1346 0.016825\n",
      "90000 1535 0.017055555555555556\n",
      "100000 1741 0.01741\n",
      "110000 1914 0.0174\n",
      "120000 2115 0.017625\n",
      "130000 2290 0.017615384615384616\n",
      "140000 2474 0.01767142857142857\n",
      "150000 2648 0.017653333333333333\n",
      "160000 2720 0.017\n",
      "170000 2816 0.01656470588235294\n",
      "180000 2917 0.016205555555555556\n",
      "190000 3014 0.015863157894736843\n",
      "200000 3101 0.015505\n",
      "210000 3187 0.015176190476190477\n",
      "220000 3261 0.014822727272727272\n",
      "230000 3344 0.014539130434782608\n",
      "240000 3434 0.014308333333333333\n",
      "250000 3521 0.014084\n",
      "260000 3632 0.013969230769230769\n",
      "270000 3759 0.013922222222222223\n",
      "280000 3851 0.01375357142857143\n",
      "290000 3958 0.013648275862068966\n",
      "300000 4046 0.013486666666666666\n",
      "310000 4153 0.013396774193548388\n",
      "320000 4254 0.01329375\n",
      "330000 4377 0.013263636363636363\n",
      "340000 4502 0.013241176470588235\n",
      "350000 4621 0.013202857142857143\n",
      "360000 4743 0.013175\n",
      "370000 4857 0.013127027027027028\n",
      "380000 4960 0.013052631578947368\n",
      "390000 5066 0.01298974358974359\n",
      "400000 5216 0.01304\n",
      "410000 5402 0.013175609756097561\n",
      "420000 5578 0.013280952380952381\n",
      "430000 5741 0.013351162790697674\n",
      "440000 5901 0.013411363636363636\n",
      "450000 6035 0.013411111111111111\n",
      "460000 6156 0.013382608695652174\n",
      "470000 6315 0.013436170212765957\n",
      "480000 6479 0.013497916666666667\n",
      "490000 6614 0.01349795918367347\n",
      "500000 6805 0.01361\n",
      "510000 7028 0.013780392156862746\n",
      "520000 7236 0.013915384615384616\n",
      "530000 7449 0.014054716981132075\n",
      "540000 7645 0.014157407407407407\n",
      "550000 7864 0.014298181818181818\n",
      "560000 8076 0.014421428571428571\n",
      "570000 8297 0.014556140350877192\n",
      "580000 8492 0.014641379310344827\n",
      "590000 8722 0.014783050847457627\n",
      "600000 8933 0.014888333333333333\n",
      "610000 9119 0.014949180327868853\n",
      "620000 9306 0.015009677419354838\n",
      "630000 9487 0.015058730158730159\n",
      "640000 9646 0.015071875\n",
      "650000 9847 0.015149230769230769\n",
      "660000 10035 0.015204545454545455\n",
      "670000 10240 0.01528358208955224\n",
      "680000 10442 0.015355882352941176\n",
      "690000 10635 0.01541304347826087\n",
      "700000 10835 0.015478571428571428\n",
      "710000 11029 0.015533802816901409\n",
      "720000 11235 0.015604166666666667\n",
      "730000 11428 0.015654794520547945\n",
      "740000 11620 0.015702702702702704\n",
      "750000 11823 0.015764\n",
      "760000 12008 0.0158\n",
      "770000 12194 0.015836363636363638\n",
      "780000 12387 0.01588076923076923\n",
      "790000 12577 0.01592025316455696\n",
      "800000 12760 0.01595\n",
      "810000 12901 0.01592716049382716\n",
      "820000 13045 0.015908536585365854\n",
      "830000 13194 0.015896385542168674\n",
      "840000 13340 0.01588095238095238\n",
      "850000 13503 0.015885882352941177\n",
      "860000 13709 0.015940697674418604\n",
      "870000 13893 0.01596896551724138\n",
      "880000 14071 0.015989772727272727\n",
      "890000 14241 0.01600112359550562\n",
      "900000 14417 0.016018888888888888\n",
      "910000 14574 0.016015384615384615\n",
      "920000 14751 0.016033695652173913\n",
      "930000 14950 0.0160752688172043\n",
      "940000 15140 0.016106382978723403\n",
      "950000 15320 0.016126315789473683\n",
      "960000 15491 0.016136458333333333\n",
      "970000 15671 0.016155670103092785\n",
      "980000 15828 0.016151020408163266\n",
      "990000 16027 0.016188888888888888\n",
      "1000000 16137 0.016137\n",
      "1010000 16268 0.016106930693069305\n",
      "1020000 16439 0.016116666666666668\n"
     ]
    },
    {
     "ename": "KeyboardInterrupt",
     "evalue": "",
     "output_type": "error",
     "traceback": [
      "\u001b[0;31m---------------------------------------------------------------------------\u001b[0m",
      "\u001b[0;31mKeyboardInterrupt\u001b[0m                         Traceback (most recent call last)",
      "\u001b[0;32m<ipython-input-7-83a4b31d4f01>\u001b[0m in \u001b[0;36m<module>\u001b[0;34m()\u001b[0m\n\u001b[1;32m      3\u001b[0m                         \u001b[0mquantify_trump_infection\u001b[0m\u001b[0;34m,\u001b[0m\u001b[0;34m\u001b[0m\u001b[0m\n\u001b[1;32m      4\u001b[0m                         False)\n\u001b[0;32m----> 5\u001b[0;31m \u001b[0masyncio\u001b[0m\u001b[0;34m.\u001b[0m\u001b[0mget_event_loop\u001b[0m\u001b[0;34m(\u001b[0m\u001b[0;34m)\u001b[0m\u001b[0;34m.\u001b[0m\u001b[0mrun_until_complete\u001b[0m\u001b[0;34m(\u001b[0m\u001b[0mstream\u001b[0m\u001b[0;34m)\u001b[0m\u001b[0;34m\u001b[0m\u001b[0m\n\u001b[0m",
      "\u001b[0;32m~/anaconda/envs/odin/lib/python3.5/asyncio/base_events.py\u001b[0m in \u001b[0;36mrun_until_complete\u001b[0;34m(self, future)\u001b[0m\n\u001b[1;32m    452\u001b[0m         \u001b[0mfuture\u001b[0m\u001b[0;34m.\u001b[0m\u001b[0madd_done_callback\u001b[0m\u001b[0;34m(\u001b[0m\u001b[0m_run_until_complete_cb\u001b[0m\u001b[0;34m)\u001b[0m\u001b[0;34m\u001b[0m\u001b[0m\n\u001b[1;32m    453\u001b[0m         \u001b[0;32mtry\u001b[0m\u001b[0;34m:\u001b[0m\u001b[0;34m\u001b[0m\u001b[0m\n\u001b[0;32m--> 454\u001b[0;31m             \u001b[0mself\u001b[0m\u001b[0;34m.\u001b[0m\u001b[0mrun_forever\u001b[0m\u001b[0;34m(\u001b[0m\u001b[0;34m)\u001b[0m\u001b[0;34m\u001b[0m\u001b[0m\n\u001b[0m\u001b[1;32m    455\u001b[0m         \u001b[0;32mexcept\u001b[0m\u001b[0;34m:\u001b[0m\u001b[0;34m\u001b[0m\u001b[0m\n\u001b[1;32m    456\u001b[0m             \u001b[0;32mif\u001b[0m \u001b[0mnew_task\u001b[0m \u001b[0;32mand\u001b[0m \u001b[0mfuture\u001b[0m\u001b[0;34m.\u001b[0m\u001b[0mdone\u001b[0m\u001b[0;34m(\u001b[0m\u001b[0;34m)\u001b[0m \u001b[0;32mand\u001b[0m \u001b[0;32mnot\u001b[0m \u001b[0mfuture\u001b[0m\u001b[0;34m.\u001b[0m\u001b[0mcancelled\u001b[0m\u001b[0;34m(\u001b[0m\u001b[0;34m)\u001b[0m\u001b[0;34m:\u001b[0m\u001b[0;34m\u001b[0m\u001b[0m\n",
      "\u001b[0;32m~/anaconda/envs/odin/lib/python3.5/asyncio/base_events.py\u001b[0m in \u001b[0;36mrun_forever\u001b[0;34m(self)\u001b[0m\n\u001b[1;32m    419\u001b[0m             \u001b[0mevents\u001b[0m\u001b[0;34m.\u001b[0m\u001b[0m_set_running_loop\u001b[0m\u001b[0;34m(\u001b[0m\u001b[0mself\u001b[0m\u001b[0;34m)\u001b[0m\u001b[0;34m\u001b[0m\u001b[0m\n\u001b[1;32m    420\u001b[0m             \u001b[0;32mwhile\u001b[0m \u001b[0;32mTrue\u001b[0m\u001b[0;34m:\u001b[0m\u001b[0;34m\u001b[0m\u001b[0m\n\u001b[0;32m--> 421\u001b[0;31m                 \u001b[0mself\u001b[0m\u001b[0;34m.\u001b[0m\u001b[0m_run_once\u001b[0m\u001b[0;34m(\u001b[0m\u001b[0;34m)\u001b[0m\u001b[0;34m\u001b[0m\u001b[0m\n\u001b[0m\u001b[1;32m    422\u001b[0m                 \u001b[0;32mif\u001b[0m \u001b[0mself\u001b[0m\u001b[0;34m.\u001b[0m\u001b[0m_stopping\u001b[0m\u001b[0;34m:\u001b[0m\u001b[0;34m\u001b[0m\u001b[0m\n\u001b[1;32m    423\u001b[0m                     \u001b[0;32mbreak\u001b[0m\u001b[0;34m\u001b[0m\u001b[0m\n",
      "\u001b[0;32m~/anaconda/envs/odin/lib/python3.5/asyncio/base_events.py\u001b[0m in \u001b[0;36m_run_once\u001b[0;34m(self)\u001b[0m\n\u001b[1;32m   1386\u001b[0m                            timeout * 1e3, dt * 1e3)\n\u001b[1;32m   1387\u001b[0m         \u001b[0;32melse\u001b[0m\u001b[0;34m:\u001b[0m\u001b[0;34m\u001b[0m\u001b[0m\n\u001b[0;32m-> 1388\u001b[0;31m             \u001b[0mevent_list\u001b[0m \u001b[0;34m=\u001b[0m \u001b[0mself\u001b[0m\u001b[0;34m.\u001b[0m\u001b[0m_selector\u001b[0m\u001b[0;34m.\u001b[0m\u001b[0mselect\u001b[0m\u001b[0;34m(\u001b[0m\u001b[0mtimeout\u001b[0m\u001b[0;34m)\u001b[0m\u001b[0;34m\u001b[0m\u001b[0m\n\u001b[0m\u001b[1;32m   1389\u001b[0m         \u001b[0mself\u001b[0m\u001b[0;34m.\u001b[0m\u001b[0m_process_events\u001b[0m\u001b[0;34m(\u001b[0m\u001b[0mevent_list\u001b[0m\u001b[0;34m)\u001b[0m\u001b[0;34m\u001b[0m\u001b[0m\n\u001b[1;32m   1390\u001b[0m \u001b[0;34m\u001b[0m\u001b[0m\n",
      "\u001b[0;32m~/anaconda/envs/odin/lib/python3.5/selectors.py\u001b[0m in \u001b[0;36mselect\u001b[0;34m(self, timeout)\u001b[0m\n\u001b[1;32m    575\u001b[0m             \u001b[0mready\u001b[0m \u001b[0;34m=\u001b[0m \u001b[0;34m[\u001b[0m\u001b[0;34m]\u001b[0m\u001b[0;34m\u001b[0m\u001b[0m\n\u001b[1;32m    576\u001b[0m             \u001b[0;32mtry\u001b[0m\u001b[0;34m:\u001b[0m\u001b[0;34m\u001b[0m\u001b[0m\n\u001b[0;32m--> 577\u001b[0;31m                 \u001b[0mkev_list\u001b[0m \u001b[0;34m=\u001b[0m \u001b[0mself\u001b[0m\u001b[0;34m.\u001b[0m\u001b[0m_kqueue\u001b[0m\u001b[0;34m.\u001b[0m\u001b[0mcontrol\u001b[0m\u001b[0;34m(\u001b[0m\u001b[0;32mNone\u001b[0m\u001b[0;34m,\u001b[0m \u001b[0mmax_ev\u001b[0m\u001b[0;34m,\u001b[0m \u001b[0mtimeout\u001b[0m\u001b[0;34m)\u001b[0m\u001b[0;34m\u001b[0m\u001b[0m\n\u001b[0m\u001b[1;32m    578\u001b[0m             \u001b[0;32mexcept\u001b[0m \u001b[0mInterruptedError\u001b[0m\u001b[0;34m:\u001b[0m\u001b[0;34m\u001b[0m\u001b[0m\n\u001b[1;32m    579\u001b[0m                 \u001b[0;32mreturn\u001b[0m \u001b[0mready\u001b[0m\u001b[0;34m\u001b[0m\u001b[0m\n",
      "\u001b[0;31mKeyboardInterrupt\u001b[0m: "
     ]
    }
   ],
   "source": [
    "stream = basic_streamer(APP_CRED, CLIENT_CRED, \n",
    "                        streaming_api.statuses.sample(),\n",
    "                        quantify_trump_infection,\n",
    "                        False)\n",
    "asyncio.get_event_loop().run_until_complete(stream)"
   ]
  },
  {
   "cell_type": "code",
   "execution_count": null,
   "metadata": {
    "collapsed": true
   },
   "outputs": [],
   "source": [
    "fp.close()"
   ]
  },
  {
   "cell_type": "code",
   "execution_count": null,
   "metadata": {
    "collapsed": true
   },
   "outputs": [],
   "source": []
  }
 ],
 "metadata": {
  "kernelspec": {
   "display_name": "Python 3",
   "language": "python",
   "name": "python3"
  },
  "language_info": {
   "codemirror_mode": {
    "name": "ipython",
    "version": 3
   },
   "file_extension": ".py",
   "mimetype": "text/x-python",
   "name": "python",
   "nbconvert_exporter": "python",
   "pygments_lexer": "ipython3",
   "version": "3.5.3"
  }
 },
 "nbformat": 4,
 "nbformat_minor": 2
}
