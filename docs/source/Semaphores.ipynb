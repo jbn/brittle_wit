{
 "cells": [
  {
   "cell_type": "code",
   "execution_count": 1,
   "metadata": {
    "collapsed": true
   },
   "outputs": [],
   "source": [
    "import asyncio\n",
    "\n",
    "\n",
    "loop = asyncio.get_event_loop()"
   ]
  },
  {
   "cell_type": "markdown",
   "metadata": {},
   "source": [
    "- `asyncio.wait_for()` cancel task after a timeout."
   ]
  },
  {
   "cell_type": "markdown",
   "metadata": {},
   "source": [
    "# Locks"
   ]
  },
  {
   "cell_type": "code",
   "execution_count": 13,
   "metadata": {},
   "outputs": [
    {
     "name": "stdout",
     "output_type": "stream",
     "text": [
      "Enter: A\n",
      "Working: A\n",
      "Enter: B\n",
      "Done: A\n",
      "Working: B\n",
      "Done: B\n"
     ]
    }
   ],
   "source": [
    "async def lock_example(lock, identity):\n",
    "    print(\"Enter:\", identity)\n",
    "    try:\n",
    "        await lock.acquire()\n",
    "        print(\"Working:\", identity)\n",
    "        await asyncio.sleep(3)  # Do work.\n",
    "    finally:\n",
    "        lock.release()\n",
    "        print(\"Done:\", identity)\n",
    "        \n",
    "lock = asyncio.Lock()\n",
    "loop.create_task(lock_example(lock, \"A\"))\n",
    "loop.run_until_complete(lock_example(lock, \"B\"))"
   ]
  },
  {
   "cell_type": "markdown",
   "metadata": {},
   "source": [
    "# Events"
   ]
  },
  {
   "cell_type": "code",
   "execution_count": 3,
   "metadata": {},
   "outputs": [
    {
     "name": "stdout",
     "output_type": "stream",
     "text": [
      "Consumer a waiting\n",
      "Consumer b waiting\n",
      "SETTING\n",
      "SLEEPING\n",
      "Acquired!\n",
      "Acquired!\n",
      "Consumer a waiting\n",
      "Acquired!\n",
      "Consumer b waiting\n",
      "Acquired!\n",
      "Consumer a waiting\n",
      "Acquired!\n",
      "Consumer b waiting\n",
      "Acquired!\n",
      "Consumer a waiting\n",
      "Acquired!\n",
      "Consumer b waiting\n",
      "Acquired!\n",
      "Consumer a waiting\n",
      "Acquired!\n",
      "Consumer b waiting\n",
      "Acquired!\n",
      "Consumer a waiting\n",
      "Acquired!\n",
      "Consumer b waiting\n",
      "Acquired!\n",
      "CLEARING\n",
      "SLEEPING\n",
      "Consumer a waiting\n",
      "Consumer b waiting\n",
      "Consumer a waiting\n",
      "Acquired!\n",
      "Consumer b waiting\n",
      "Acquired!\n",
      "Consumer a waiting\n",
      "Acquired!\n",
      "Consumer b waiting\n",
      "Acquired!\n",
      "Consumer a waiting\n",
      "Acquired!\n",
      "Consumer b waiting\n",
      "Acquired!\n",
      "SETTING\n",
      "SLEEPING\n",
      "Acquired!\n",
      "Acquired!\n",
      "Consumer a waiting\n",
      "Acquired!\n",
      "Consumer b waiting\n",
      "Acquired!\n",
      "Consumer a waiting\n",
      "Acquired!\n",
      "Consumer b waiting\n",
      "Acquired!\n",
      "Consumer a waiting\n",
      "Acquired!\n",
      "Consumer b waiting\n",
      "Acquired!\n",
      "Consumer a waiting\n",
      "Acquired!\n",
      "Consumer b waiting\n",
      "Acquired!\n",
      "Consumer a waiting\n",
      "Acquired!\n",
      "Consumer b waiting\n",
      "Acquired!\n",
      "CLEARING\n",
      "SLEEPING\n",
      "Consumer a waiting\n",
      "Consumer b waiting\n",
      "Consumer a waiting\n",
      "Acquired!\n",
      "Consumer b waiting\n",
      "Acquired!\n",
      "Consumer a waiting\n",
      "Acquired!\n",
      "Consumer b waiting\n",
      "Acquired!\n",
      "Consumer a waiting\n",
      "Acquired!\n",
      "Consumer b waiting\n",
      "Acquired!\n",
      "SETTING\n",
      "SLEEPING\n",
      "Acquired!\n",
      "Acquired!\n",
      "Consumer a waiting\n",
      "Acquired!\n",
      "Consumer b waiting\n",
      "Acquired!\n",
      "Consumer a waiting\n",
      "Acquired!\n",
      "Consumer b waiting\n",
      "Acquired!\n",
      "Consumer a waiting\n",
      "Acquired!\n",
      "Consumer b waiting\n",
      "Acquired!\n",
      "Consumer a waiting\n",
      "Acquired!\n",
      "Consumer b waiting\n",
      "Acquired!\n",
      "Consumer a waiting\n",
      "Acquired!\n",
      "Consumer b waiting\n",
      "Acquired!\n",
      "CLEARING\n",
      "SLEEPING\n",
      "Consumer a waiting\n",
      "Consumer b waiting\n",
      "Consumer a waiting\n",
      "Acquired!\n",
      "Consumer b waiting\n",
      "Acquired!\n",
      "Consumer a waiting\n",
      "Acquired!\n",
      "Consumer b waiting\n",
      "Acquired!\n",
      "Consumer a waiting\n",
      "Acquired!\n",
      "Consumer b waiting\n",
      "Acquired!\n"
     ]
    },
    {
     "ename": "KeyboardInterrupt",
     "evalue": "",
     "output_type": "error",
     "traceback": [
      "\u001b[0;31m---------------------------------------------------------------------------\u001b[0m",
      "\u001b[0;31mKeyboardInterrupt\u001b[0m                         Traceback (most recent call last)",
      "\u001b[0;32m<ipython-input-3-d28a0e500028>\u001b[0m in \u001b[0;36m<module>\u001b[0;34m()\u001b[0m\n\u001b[1;32m     21\u001b[0m \u001b[0mloop\u001b[0m\u001b[0;34m.\u001b[0m\u001b[0mcreate_task\u001b[0m\u001b[0;34m(\u001b[0m\u001b[0mconsumer\u001b[0m\u001b[0;34m(\u001b[0m\u001b[0mevent\u001b[0m\u001b[0;34m,\u001b[0m \u001b[0;34m'a'\u001b[0m\u001b[0;34m)\u001b[0m\u001b[0;34m)\u001b[0m\u001b[0;34m\u001b[0m\u001b[0m\n\u001b[1;32m     22\u001b[0m \u001b[0mloop\u001b[0m\u001b[0;34m.\u001b[0m\u001b[0mcreate_task\u001b[0m\u001b[0;34m(\u001b[0m\u001b[0mconsumer\u001b[0m\u001b[0;34m(\u001b[0m\u001b[0mevent\u001b[0m\u001b[0;34m,\u001b[0m \u001b[0;34m'b'\u001b[0m\u001b[0;34m)\u001b[0m\u001b[0;34m)\u001b[0m\u001b[0;34m\u001b[0m\u001b[0m\n\u001b[0;32m---> 23\u001b[0;31m \u001b[0mloop\u001b[0m\u001b[0;34m.\u001b[0m\u001b[0mrun_until_complete\u001b[0m\u001b[0;34m(\u001b[0m\u001b[0mproducer\u001b[0m\u001b[0;34m(\u001b[0m\u001b[0mevent\u001b[0m\u001b[0;34m)\u001b[0m\u001b[0;34m)\u001b[0m\u001b[0;34m\u001b[0m\u001b[0m\n\u001b[0m",
      "\u001b[0;32m/Users/generativist/anaconda/lib/python3.6/asyncio/base_events.py\u001b[0m in \u001b[0;36mrun_until_complete\u001b[0;34m(self, future)\u001b[0m\n\u001b[1;32m    452\u001b[0m         \u001b[0mfuture\u001b[0m\u001b[0;34m.\u001b[0m\u001b[0madd_done_callback\u001b[0m\u001b[0;34m(\u001b[0m\u001b[0m_run_until_complete_cb\u001b[0m\u001b[0;34m)\u001b[0m\u001b[0;34m\u001b[0m\u001b[0m\n\u001b[1;32m    453\u001b[0m         \u001b[0;32mtry\u001b[0m\u001b[0;34m:\u001b[0m\u001b[0;34m\u001b[0m\u001b[0m\n\u001b[0;32m--> 454\u001b[0;31m             \u001b[0mself\u001b[0m\u001b[0;34m.\u001b[0m\u001b[0mrun_forever\u001b[0m\u001b[0;34m(\u001b[0m\u001b[0;34m)\u001b[0m\u001b[0;34m\u001b[0m\u001b[0m\n\u001b[0m\u001b[1;32m    455\u001b[0m         \u001b[0;32mexcept\u001b[0m\u001b[0;34m:\u001b[0m\u001b[0;34m\u001b[0m\u001b[0m\n\u001b[1;32m    456\u001b[0m             \u001b[0;32mif\u001b[0m \u001b[0mnew_task\u001b[0m \u001b[0;32mand\u001b[0m \u001b[0mfuture\u001b[0m\u001b[0;34m.\u001b[0m\u001b[0mdone\u001b[0m\u001b[0;34m(\u001b[0m\u001b[0;34m)\u001b[0m \u001b[0;32mand\u001b[0m \u001b[0;32mnot\u001b[0m \u001b[0mfuture\u001b[0m\u001b[0;34m.\u001b[0m\u001b[0mcancelled\u001b[0m\u001b[0;34m(\u001b[0m\u001b[0;34m)\u001b[0m\u001b[0;34m:\u001b[0m\u001b[0;34m\u001b[0m\u001b[0m\n",
      "\u001b[0;32m/Users/generativist/anaconda/lib/python3.6/asyncio/base_events.py\u001b[0m in \u001b[0;36mrun_forever\u001b[0;34m(self)\u001b[0m\n\u001b[1;32m    419\u001b[0m             \u001b[0mevents\u001b[0m\u001b[0;34m.\u001b[0m\u001b[0m_set_running_loop\u001b[0m\u001b[0;34m(\u001b[0m\u001b[0mself\u001b[0m\u001b[0;34m)\u001b[0m\u001b[0;34m\u001b[0m\u001b[0m\n\u001b[1;32m    420\u001b[0m             \u001b[0;32mwhile\u001b[0m \u001b[0;32mTrue\u001b[0m\u001b[0;34m:\u001b[0m\u001b[0;34m\u001b[0m\u001b[0m\n\u001b[0;32m--> 421\u001b[0;31m                 \u001b[0mself\u001b[0m\u001b[0;34m.\u001b[0m\u001b[0m_run_once\u001b[0m\u001b[0;34m(\u001b[0m\u001b[0;34m)\u001b[0m\u001b[0;34m\u001b[0m\u001b[0m\n\u001b[0m\u001b[1;32m    422\u001b[0m                 \u001b[0;32mif\u001b[0m \u001b[0mself\u001b[0m\u001b[0;34m.\u001b[0m\u001b[0m_stopping\u001b[0m\u001b[0;34m:\u001b[0m\u001b[0;34m\u001b[0m\u001b[0m\n\u001b[1;32m    423\u001b[0m                     \u001b[0;32mbreak\u001b[0m\u001b[0;34m\u001b[0m\u001b[0m\n",
      "\u001b[0;32m/Users/generativist/anaconda/lib/python3.6/asyncio/base_events.py\u001b[0m in \u001b[0;36m_run_once\u001b[0;34m(self)\u001b[0m\n\u001b[1;32m   1387\u001b[0m                            timeout * 1e3, dt * 1e3)\n\u001b[1;32m   1388\u001b[0m         \u001b[0;32melse\u001b[0m\u001b[0;34m:\u001b[0m\u001b[0;34m\u001b[0m\u001b[0m\n\u001b[0;32m-> 1389\u001b[0;31m             \u001b[0mevent_list\u001b[0m \u001b[0;34m=\u001b[0m \u001b[0mself\u001b[0m\u001b[0;34m.\u001b[0m\u001b[0m_selector\u001b[0m\u001b[0;34m.\u001b[0m\u001b[0mselect\u001b[0m\u001b[0;34m(\u001b[0m\u001b[0mtimeout\u001b[0m\u001b[0;34m)\u001b[0m\u001b[0;34m\u001b[0m\u001b[0m\n\u001b[0m\u001b[1;32m   1390\u001b[0m         \u001b[0mself\u001b[0m\u001b[0;34m.\u001b[0m\u001b[0m_process_events\u001b[0m\u001b[0;34m(\u001b[0m\u001b[0mevent_list\u001b[0m\u001b[0;34m)\u001b[0m\u001b[0;34m\u001b[0m\u001b[0m\n\u001b[1;32m   1391\u001b[0m \u001b[0;34m\u001b[0m\u001b[0m\n",
      "\u001b[0;32m/Users/generativist/anaconda/lib/python3.6/selectors.py\u001b[0m in \u001b[0;36mselect\u001b[0;34m(self, timeout)\u001b[0m\n\u001b[1;32m    575\u001b[0m             \u001b[0mready\u001b[0m \u001b[0;34m=\u001b[0m \u001b[0;34m[\u001b[0m\u001b[0;34m]\u001b[0m\u001b[0;34m\u001b[0m\u001b[0m\n\u001b[1;32m    576\u001b[0m             \u001b[0;32mtry\u001b[0m\u001b[0;34m:\u001b[0m\u001b[0;34m\u001b[0m\u001b[0m\n\u001b[0;32m--> 577\u001b[0;31m                 \u001b[0mkev_list\u001b[0m \u001b[0;34m=\u001b[0m \u001b[0mself\u001b[0m\u001b[0;34m.\u001b[0m\u001b[0m_kqueue\u001b[0m\u001b[0;34m.\u001b[0m\u001b[0mcontrol\u001b[0m\u001b[0;34m(\u001b[0m\u001b[0;32mNone\u001b[0m\u001b[0;34m,\u001b[0m \u001b[0mmax_ev\u001b[0m\u001b[0;34m,\u001b[0m \u001b[0mtimeout\u001b[0m\u001b[0;34m)\u001b[0m\u001b[0;34m\u001b[0m\u001b[0m\n\u001b[0m\u001b[1;32m    578\u001b[0m             \u001b[0;32mexcept\u001b[0m \u001b[0mInterruptedError\u001b[0m\u001b[0;34m:\u001b[0m\u001b[0;34m\u001b[0m\u001b[0m\n\u001b[1;32m    579\u001b[0m                 \u001b[0;32mreturn\u001b[0m \u001b[0mready\u001b[0m\u001b[0;34m\u001b[0m\u001b[0m\n",
      "\u001b[0;31mKeyboardInterrupt\u001b[0m: "
     ]
    }
   ],
   "source": [
    "async def consumer(event, identity):\n",
    "    while True:\n",
    "        print(\"Consumer {} waiting\".format(identity))\n",
    "        await event.wait()\n",
    "        print(\"Acquired!\")\n",
    "        await asyncio.sleep(1)\n",
    "    \n",
    "    \n",
    "async def producer(event):\n",
    "    while True:\n",
    "        print(\"SETTING\")\n",
    "        event.set()\n",
    "        print(\"SLEEPING\")\n",
    "        await asyncio.sleep(3)\n",
    "        print(\"CLEARING\")\n",
    "        event.clear()\n",
    "        print(\"SLEEPING\")\n",
    "        await asyncio.sleep(3)\n",
    "        \n",
    "event = asyncio.Event()\n",
    "loop.create_task(consumer(event, 'a'))\n",
    "loop.create_task(consumer(event, 'b'))\n",
    "loop.run_until_complete(producer(event))"
   ]
  },
  {
   "cell_type": "code",
   "execution_count": null,
   "metadata": {
    "collapsed": true
   },
   "outputs": [],
   "source": []
  }
 ],
 "metadata": {
  "kernelspec": {
   "display_name": "Python 3",
   "language": "python",
   "name": "python3"
  },
  "language_info": {
   "codemirror_mode": {
    "name": "ipython",
    "version": 3
   },
   "file_extension": ".py",
   "mimetype": "text/x-python",
   "name": "python",
   "nbconvert_exporter": "python",
   "pygments_lexer": "ipython3",
   "version": "3.6.1"
  }
 },
 "nbformat": 4,
 "nbformat_minor": 2
}
