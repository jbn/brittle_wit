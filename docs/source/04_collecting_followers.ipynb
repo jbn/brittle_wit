{
 "cells": [
  {
   "cell_type": "code",
   "execution_count": 1,
   "metadata": {
    "collapsed": true
   },
   "outputs": [],
   "source": [
    "import brittle_wit as bw\n",
    "from brittle_wit import rest_api\n",
    "\n",
    "\n",
    "bw.monkey_patch_ipython_disp()\n",
    "\n",
    "\n",
    "APP_CRED = bw.AppCredentials.load_from_env()\n",
    "CLIENT_CRED = bw.ClientCredentials.load_from_env()"
   ]
  },
  {
   "cell_type": "code",
   "execution_count": 2,
   "metadata": {},
   "outputs": [
    {
     "data": {
      "text/html": [
       "<table>\n",
       "<tr><th>Name</th><th>Value</th>\n",
       "<tr><td>method</td><td>GET</td>\n",
       "<tr><td>url</td><td>https://api.twitter.com/1.1/followers/ids.json</td>\n",
       "<tr><td>family</td><td>rest:followers</td>\n",
       "<tr><td>service</td><td>get-followers-ids</td>\n",
       "<tr><td>parse_as</td><td>json</td>\n",
       "<tr><td>Params</td><td><table>\n",
       "<tr><th>Key</th><th>Value</th>\n",
       "<tr><td>screen_name</td><td>hmason</td>\n",
       "</table></td>\n",
       "</table>"
      ],
      "text/plain": [
       "<brittle_wit_core.common.TwitterRequest at 0x1086cb048>"
      ]
     },
     "execution_count": 2,
     "metadata": {},
     "output_type": "execute_result"
    }
   ],
   "source": [
    "twitter_req = rest_api.followers.ids(screen_name='hmason')\n",
    "twitter_req"
   ]
  },
  {
   "cell_type": "code",
   "execution_count": 3,
   "metadata": {
    "collapsed": true
   },
   "outputs": [],
   "source": [
    "processor = bw.ClientRequestProcessor(CLIENT_CRED)"
   ]
  },
  {
   "cell_type": "code",
   "execution_count": null,
   "metadata": {
    "collapsed": true
   },
   "outputs": [],
   "source": [
    "processor.execute()"
   ]
  }
 ],
 "metadata": {
  "kernelspec": {
   "display_name": "Python 3",
   "language": "python",
   "name": "python3"
  },
  "language_info": {
   "codemirror_mode": {
    "name": "ipython",
    "version": 3
   },
   "file_extension": ".py",
   "mimetype": "text/x-python",
   "name": "python",
   "nbconvert_exporter": "python",
   "pygments_lexer": "ipython3",
   "version": "3.5.3"
  }
 },
 "nbformat": 4,
 "nbformat_minor": 2
}
